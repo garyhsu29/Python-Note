{
 "cells": [
  {
   "cell_type": "markdown",
   "metadata": {},
   "source": [
    "# 本章節會學到的指令\n",
    "* os.getcwd()         -> 查看目前目錄\n",
    "* os.makedirs()       -> 建立新的資料夾\n",
    "* os.chdir()          -> 換目錄地\n",
    "* os.isabs()          -> 判斷一個路徑是不是絕對路徑\n",
    "* os.path.exists()    -> 判斷路徑是否存在\n",
    "* os.path.isdir()     -> 判斷路徑是否為一個目錄\n",
    "* os.path.isfile()    -> 判斷路徑是否為一個檔案\n",
    "* os.path.basename()  -> 一個檔案的路徑，取出檔案名稱\n",
    "* os.path.dirname()   -> 一個檔案的路徑，取出目錄名稱\n",
    "* os.path.split()     -> 一次取出檔案名稱以及目錄名稱\n",
    "* all_sep = my_file_path.split(os.path.sep) -> 把所有的folder都分開\n",
    "* os.listdir()        -> 列出這個目錄下所有檔案\n",
    "* os.path.getsize()   -> 得到該檔案的size"
   ]
  },
  {
   "cell_type": "markdown",
   "metadata": {},
   "source": [
    "### 1.當我們在讀寫檔案的時候需要兩個東西：\n",
    "* 路徑 path\n",
    "* 檔名 File name"
   ]
  },
  {
   "cell_type": "markdown",
   "metadata": {},
   "source": [
    "### 2.要怎麼獲得目前路徑呢？\n",
    "\n",
    "* 用 os 函式庫裡面的 getcwd (current working directory)"
   ]
  },
  {
   "cell_type": "code",
   "execution_count": 1,
   "metadata": {},
   "outputs": [
    {
     "data": {
      "text/plain": [
       "'/Users/Garyhsu29/NU Homework/Automate Python'"
      ]
     },
     "execution_count": 1,
     "metadata": {},
     "output_type": "execute_result"
    }
   ],
   "source": [
    "import os\n",
    "os.getcwd()"
   ]
  },
  {
   "cell_type": "markdown",
   "metadata": {},
   "source": [
    "#### Example 1:先建立一個Folder 來裝 CH8 所有的code"
   ]
  },
  {
   "cell_type": "code",
   "execution_count": 2,
   "metadata": {},
   "outputs": [
    {
     "name": "stdout",
     "output_type": "stream",
     "text": [
      "Folder Already Exist\n"
     ]
    }
   ],
   "source": [
    "import os\n",
    "try:\n",
    "    os.makedirs('/Users/Garyhsu29/NU Homework/Automate Python/CH8')\n",
    "except:\n",
    "    print('Folder Already Exist')"
   ]
  },
  {
   "cell_type": "markdown",
   "metadata": {},
   "source": [
    "#### Example 1-2:因為這個folder 是新建立的， 我們剛剛的目錄還是在Automate Python 之下，我們要切換到CH8"
   ]
  },
  {
   "cell_type": "code",
   "execution_count": 3,
   "metadata": {},
   "outputs": [
    {
     "data": {
      "text/plain": [
       "'/Users/Garyhsu29/NU Homework/Automate Python/CH8'"
      ]
     },
     "execution_count": 3,
     "metadata": {},
     "output_type": "execute_result"
    }
   ],
   "source": [
    "os.chdir('/Users/Garyhsu29/NU Homework/Automate Python/CH8')\n",
    "os.getcwd()"
   ]
  },
  {
   "cell_type": "markdown",
   "metadata": {},
   "source": [
    "### 3.路徑又可以分為\n",
    "\n",
    "* 絕對路徑\n",
    "* 相對路徑"
   ]
  },
  {
   "cell_type": "code",
   "execution_count": 4,
   "metadata": {},
   "outputs": [
    {
     "data": {
      "text/plain": [
       "False"
      ]
     },
     "execution_count": 4,
     "metadata": {},
     "output_type": "execute_result"
    }
   ],
   "source": [
    "os.path.isabs('.')"
   ]
  },
  {
   "cell_type": "code",
   "execution_count": 5,
   "metadata": {},
   "outputs": [
    {
     "data": {
      "text/plain": [
       "True"
      ]
     },
     "execution_count": 5,
     "metadata": {},
     "output_type": "execute_result"
    }
   ],
   "source": [
    "os.path.isabs(os.getcwd())"
   ]
  },
  {
   "cell_type": "markdown",
   "metadata": {},
   "source": [
    "#### Example2:我在CH8 資料夾內建立一個 test file. \n",
    "PS: MacOS 在 seperate directory 的時候第一個為空\"\""
   ]
  },
  {
   "cell_type": "code",
   "execution_count": 6,
   "metadata": {},
   "outputs": [
    {
     "name": "stdout",
     "output_type": "stream",
     "text": [
      "This is file(base) name: Test.rtf\n",
      "This is directory name: /Users/Garyhsu29/NU Homework/Automate Python/CH8\n",
      "\n",
      "This is file + directory name: ('/Users/Garyhsu29/NU Homework/Automate Python/CH8', 'Test.rtf')\n",
      "This is a seperate directory name: ['', 'Users', 'Garyhsu29', 'NU Homework', 'Automate Python', 'CH8', 'Test.rtf']\n"
     ]
    }
   ],
   "source": [
    "my_file_path = '/Users/Garyhsu29/NU Homework/Automate Python/CH8/Test.rtf'\n",
    "print (\"This is file(base) name:\",os.path.basename(my_file_path))\n",
    "print (\"This is directory name:\",os.path.dirname(my_file_path))\n",
    "print ()\n",
    "get_all_name = os.path.split(my_file_path)\n",
    "print(\"This is file + directory name:\",get_all_name)\n",
    "\n",
    "all_sep = my_file_path.split(os.path.sep)\n",
    "print(\"This is a seperate directory name:\",all_sep)"
   ]
  },
  {
   "cell_type": "markdown",
   "metadata": {},
   "source": [
    "### 輸入File 的副檔名別忘記！！(.rtf)"
   ]
  },
  {
   "cell_type": "code",
   "execution_count": 7,
   "metadata": {},
   "outputs": [
    {
     "name": "stdout",
     "output_type": "stream",
     "text": [
      "My file size: 404\n"
     ]
    }
   ],
   "source": [
    "file_size = os.path.getsize(my_file_path)\n",
    "print(\"My file size:\",file_size)"
   ]
  },
  {
   "cell_type": "code",
   "execution_count": 8,
   "metadata": {},
   "outputs": [
    {
     "name": "stdout",
     "output_type": "stream",
     "text": [
      "['.DS_Store', 'Test2.rtf', 'Test3.rtf', 'Test.rtf']\n"
     ]
    }
   ],
   "source": [
    "current_directory = os.getcwd()\n",
    "all_file = os.listdir(current_directory)\n",
    "print(all_file)"
   ]
  },
  {
   "cell_type": "markdown",
   "metadata": {},
   "source": [
    "#### 活用 listdir() 和 getsize() 算出這個資料夾總共檔案大小 "
   ]
  },
  {
   "cell_type": "code",
   "execution_count": 9,
   "metadata": {},
   "outputs": [
    {
     "name": "stdout",
     "output_type": "stream",
     "text": [
      "Total size is: 7360\n"
     ]
    }
   ],
   "source": [
    "total_size = 0\n",
    "for filename in os.listdir(current_directory):\n",
    "    total_size += os.path.getsize(filename)\n",
    "    \n",
    "print(\"Total size is:\",total_size)"
   ]
  }
 ],
 "metadata": {
  "kernelspec": {
   "display_name": "Python 3",
   "language": "python",
   "name": "python3"
  },
  "language_info": {
   "codemirror_mode": {
    "name": "ipython",
    "version": 3
   },
   "file_extension": ".py",
   "mimetype": "text/x-python",
   "name": "python",
   "nbconvert_exporter": "python",
   "pygments_lexer": "ipython3",
   "version": "3.6.5"
  }
 },
 "nbformat": 4,
 "nbformat_minor": 2
}
