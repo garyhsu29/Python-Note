{
 "cells": [
  {
   "cell_type": "markdown",
   "metadata": {},
   "source": [
    "## ZipFile 的處理\n",
    "Download file from: (http://nostarch.com/automatestuff/)"
   ]
  },
  {
   "cell_type": "markdown",
   "metadata": {},
   "source": [
    "* 使用zipfile 之前必須要import\n",
    "* 使用方式為 zipfile這個模組之下 底下的ZipFile 函式(Function)\n",
    "* 會回傳(return)一個ZipFile的物件"
   ]
  },
  {
   "cell_type": "code",
   "execution_count": 1,
   "metadata": {},
   "outputs": [],
   "source": [
    "import os\n",
    "os.chdir(os.path.join(os.getcwd(),\"CH9\"))"
   ]
  },
  {
   "cell_type": "code",
   "execution_count": 2,
   "metadata": {},
   "outputs": [
    {
     "name": "stdout",
     "output_type": "stream",
     "text": [
      "/Users/Garyhsu29/NU Homework/Automate Python/CH9\n"
     ]
    }
   ],
   "source": [
    "print(os.getcwd())"
   ]
  },
  {
   "cell_type": "markdown",
   "metadata": {},
   "source": [
    "### Zipfile 的使用方法\n",
    "* zipfile.ZipFile() -> 開啟zip的方法\n",
    "* exampleZip.namelist() -> 來列出裡面的檔案名稱\n",
    "* exampleZip.getinfo() -> 來查看關於壓縮黨內檔案的更多資訊\n",
    "* zophie_info.file_size -> 查看特別檔案的大小\n",
    "* zophie_info.compress_size -> 查看壓縮以後的大小\n",
    "* exampleZip.close() -> 檔案一定要記得關閉！！"
   ]
  },
  {
   "cell_type": "code",
   "execution_count": 3,
   "metadata": {},
   "outputs": [
    {
     "name": "stdout",
     "output_type": "stream",
     "text": [
      "Test2.rtf original size:  404\n",
      "Test2.rtf compress size :  259\n",
      "Compressed file is 1.55985x smaller!\n"
     ]
    }
   ],
   "source": [
    "import zipfile\n",
    "exampleZip = zipfile.ZipFile('test.zip')\n",
    "filenames = exampleZip.namelist() #-> namelist()可以取出所有zip file 裡面的檔案名稱 ->回傳的是一個list\n",
    "\n",
    "zophie_info = exampleZip.getinfo(filenames[0])\n",
    "\n",
    "print(filenames[0]+ \" original size: \",zophie_info.file_size)\n",
    "print(filenames[0]+ \" compress size : \",zophie_info.compress_size)\n",
    "print(\"Compressed file is %sx smaller!\"%(round(zophie_info.file_size / zophie_info.compress_size,5)))\n",
    "exampleZip.close()"
   ]
  },
  {
   "cell_type": "markdown",
   "metadata": {},
   "source": [
    "## 還有其他的函數可以來解壓縮檔案(怕檔案太多太雜就沒有試了)\n",
    "* exampleZip = zipfile.ZipFile('example.zip')\n",
    "* exampleZip.extractall()  -> 解壓縮全部\n",
    "* exampleZip.extract('test.txt')"
   ]
  },
  {
   "cell_type": "markdown",
   "metadata": {},
   "source": [
    "## 也可以把檔案寫入zip\n",
    "* 和寫擋一樣，第二個參數放w\n",
    "* 跟寫擋一樣，用w來建立zip檔案，用a來續寫檔案！"
   ]
  },
  {
   "cell_type": "code",
   "execution_count": 4,
   "metadata": {},
   "outputs": [],
   "source": [
    "import zipfile\n",
    "newZip = zipfile.ZipFile('test_write.zip','w')\n",
    "newZip.write('Test.rtf', compress_type = zipfile.ZIP_DEFLATED)\n",
    "newZip.close()\n",
    "\n",
    "newZip2 = zipfile.ZipFile('test_write.zip','a')\n",
    "newZip2.write('Test del.rtf', compress_type = zipfile.ZIP_DEFLATED)\n",
    "newZip2.close()"
   ]
  }
 ],
 "metadata": {
  "kernelspec": {
   "display_name": "Python 3",
   "language": "python",
   "name": "python3"
  },
  "language_info": {
   "codemirror_mode": {
    "name": "ipython",
    "version": 3
   },
   "file_extension": ".py",
   "mimetype": "text/x-python",
   "name": "python",
   "nbconvert_exporter": "python",
   "pygments_lexer": "ipython3",
   "version": "3.6.5"
  }
 },
 "nbformat": 4,
 "nbformat_minor": 2
}
