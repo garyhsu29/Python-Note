{
 "cells": [
  {
   "cell_type": "markdown",
   "metadata": {},
   "source": [
    "# 這一個章節會學到 \n",
    "* 1.Webbrowser -> python內建，開啟瀏覽器連到指定的網頁。\n",
    "* 2.Requests -> 可從網路上下載檔案和網頁。\n",
    "* 3.Beautiful Soup -> 可解析HTML的網頁編寫格式。\n",
    "* 4.Selenium -> 可啟動並控制Web瀏覽器。還能填寫表單並模擬滑鼠在網頁中的點按動作。"
   ]
  },
  {
   "cell_type": "markdown",
   "metadata": {},
   "source": [
    "執行以下程式會直接打開奇摩首頁，  \n",
    "webbrowser實際的應用中實用性沒有那麼高，但可搭配pyperclip來改變複製結果並打開網站"
   ]
  },
  {
   "cell_type": "code",
   "execution_count": 1,
   "metadata": {},
   "outputs": [
    {
     "data": {
      "text/plain": [
       "True"
      ]
     },
     "execution_count": 1,
     "metadata": {},
     "output_type": "execute_result"
    }
   ],
   "source": [
    "import webbrowser\n",
    "webbrowser.open('https://tw.yahoo.com/')"
   ]
  },
  {
   "cell_type": "markdown",
   "metadata": {},
   "source": [
    "#### 老面孔requests的一些函數\n",
    "* requests.get() -> 呼叫request這個函數\n",
    "* res.status_code == requests.codes.ok\n",
    "* res.text -> 存著我們想要的內文。\n"
   ]
  },
  {
   "cell_type": "code",
   "execution_count": 2,
   "metadata": {},
   "outputs": [
    {
     "name": "stdout",
     "output_type": "stream",
     "text": [
      "ï»¿The Project Gutenberg EBook of Romeo and Juliet, by William Shakespeare\n",
      "\n",
      "This eBook is for the use of anyone anywhere at no cost and with\n",
      "almost no restrictions whatsoever.  You may copy it, give it away or\n",
      "re-use it under the terms of the Project\n",
      "\n",
      "Length of text: 174130\n"
     ]
    }
   ],
   "source": [
    "import requests\n",
    "res = requests.get('https://automatetheboringstuff.com/files/rj.txt')\n",
    "try:\n",
    "    res.raise_for_status()\n",
    "except Exception as exc:\n",
    "    print('There was a problem: %s'%(exc))\n",
    "\n",
    "print(res.text[:250])\n",
    "print()\n",
    "print('Length of text:',len(res.text))"
   ]
  },
  {
   "cell_type": "code",
   "execution_count": 3,
   "metadata": {},
   "outputs": [
    {
     "ename": "HTTPError",
     "evalue": "404 Client Error: Not Found for url: http://inventwithpython.com/page_the_does_not_exist",
     "output_type": "error",
     "traceback": [
      "\u001b[0;31m---------------------------------------------------------------------------\u001b[0m",
      "\u001b[0;31mHTTPError\u001b[0m                                 Traceback (most recent call last)",
      "\u001b[0;32m<ipython-input-3-24e3a80d14ea>\u001b[0m in \u001b[0;36m<module>\u001b[0;34m()\u001b[0m\n\u001b[1;32m      1\u001b[0m \u001b[0mres\u001b[0m \u001b[0;34m=\u001b[0m \u001b[0mrequests\u001b[0m\u001b[0;34m.\u001b[0m\u001b[0mget\u001b[0m\u001b[0;34m(\u001b[0m\u001b[0;34m'http://inventwithpython.com/page_the_does_not_exist'\u001b[0m\u001b[0;34m)\u001b[0m\u001b[0;34m\u001b[0m\u001b[0m\n\u001b[0;32m----> 2\u001b[0;31m \u001b[0mres\u001b[0m\u001b[0;34m.\u001b[0m\u001b[0mraise_for_status\u001b[0m\u001b[0;34m(\u001b[0m\u001b[0;34m)\u001b[0m\u001b[0;34m\u001b[0m\u001b[0m\n\u001b[0m",
      "\u001b[0;32m/anaconda3/lib/python3.6/site-packages/requests/models.py\u001b[0m in \u001b[0;36mraise_for_status\u001b[0;34m(self)\u001b[0m\n\u001b[1;32m    937\u001b[0m \u001b[0;34m\u001b[0m\u001b[0m\n\u001b[1;32m    938\u001b[0m         \u001b[0;32mif\u001b[0m \u001b[0mhttp_error_msg\u001b[0m\u001b[0;34m:\u001b[0m\u001b[0;34m\u001b[0m\u001b[0m\n\u001b[0;32m--> 939\u001b[0;31m             \u001b[0;32mraise\u001b[0m \u001b[0mHTTPError\u001b[0m\u001b[0;34m(\u001b[0m\u001b[0mhttp_error_msg\u001b[0m\u001b[0;34m,\u001b[0m \u001b[0mresponse\u001b[0m\u001b[0;34m=\u001b[0m\u001b[0mself\u001b[0m\u001b[0;34m)\u001b[0m\u001b[0;34m\u001b[0m\u001b[0m\n\u001b[0m\u001b[1;32m    940\u001b[0m \u001b[0;34m\u001b[0m\u001b[0m\n\u001b[1;32m    941\u001b[0m     \u001b[0;32mdef\u001b[0m \u001b[0mclose\u001b[0m\u001b[0;34m(\u001b[0m\u001b[0mself\u001b[0m\u001b[0;34m)\u001b[0m\u001b[0;34m:\u001b[0m\u001b[0;34m\u001b[0m\u001b[0m\n",
      "\u001b[0;31mHTTPError\u001b[0m: 404 Client Error: Not Found for url: http://inventwithpython.com/page_the_does_not_exist"
     ]
    }
   ],
   "source": [
    "res = requests.get('http://inventwithpython.com/page_the_does_not_exist')\n",
    "res.raise_for_status()"
   ]
  },
  {
   "cell_type": "markdown",
   "metadata": {},
   "source": [
    "#### Example: 用 requests 來抓取課本指定的網頁，然後寫入rj_temp.txt\n",
    "* 1. 呼叫 requests.get() 來下載檔案。\n",
    "* 2. 在open的地方傳入參數wb, 以二進位模式開啟新的檔案。\n",
    "* 3. 使用 Response 物件的iter_content來進行迴圈。\n",
    "* 4. 在每次重複迭代中，呼叫write()來將內容寫入檔案中。\n",
    "* 5. 記得要關掉檔案"
   ]
  },
  {
   "cell_type": "code",
   "execution_count": 8,
   "metadata": {},
   "outputs": [],
   "source": [
    "import requests\n",
    "res = requests.get('https://automatetheboringstuff.com/files/rj.txt')\n",
    "res.raise_for_status()\n",
    "my_temp_file = open('rj_temp.txt','wb')\n",
    "for chunk in res.iter_content(100000):\n",
    "    my_temp_file.write(chunk)\n",
    "my_temp_file.close()"
   ]
  },
  {
   "cell_type": "markdown",
   "metadata": {},
   "source": [
    "## HTML\n",
    "* 1.所有內容都是都是被標籤包住的\n",
    "* <a href =\"http://inventwithpython.com\"> Python books </a>    <a>就是被的標籤括號著</a>\n",
    "* 3.作者建議不要用RE(Regular exprsssion)來解析網頁 -> 而要使用Beautiful Soup"
   ]
  },
  {
   "cell_type": "code",
   "execution_count": 12,
   "metadata": {},
   "outputs": [
    {
     "name": "stdout",
     "output_type": "stream",
     "text": [
      "<class 'bs4.BeautifulSoup'>\n"
     ]
    }
   ],
   "source": [
    "import bs4,requests\n",
    "res = requests.get('http://nostarch.com')\n",
    "res.raise_for_status()\n",
    "noStarchSoup = bs4.BeautifulSoup(res.text,'lxml')\n",
    "print(type(noStarchSoup))"
   ]
  },
  {
   "cell_type": "markdown",
   "metadata": {},
   "source": [
    "### CSS selector\n",
    "| 傳給 select() 方法的選擇器 | 會找到符合的... |\n",
    "|---|---|\n",
    "|soup.select('div')|所有名為div的元素|\n",
    "|soup.select('#author')|所有id屬性為author的元素|\n",
    "|soup.select('.notice')| 所有使用CSS class 屬性名為notice的元素|\n",
    "|soup.select('div span')| 所有在 div 元素之內的 span元素 |\n",
    "|soup.select('div > span')| 所有在 div 元素之內的 span 元素，且中間沒有其他元素|\n",
    "|soup.select('input[name]')|所有名稱為 input 且有個任意值 name 屬性的元素|\n",
    "|soup.select('input[type='button']')|所有名稱為input 且有個值為button type屬性的元素|\n",
    "\n",
    "#### 不同的selector 可以組合使用\n",
    "* soup.select('p #author') -> 可尋找比對所有id屬性為author的元素 只要他在 p 元素之內"
   ]
  },
  {
   "cell_type": "markdown",
   "metadata": {},
   "source": [
    "# 如果有興趣的話延伸閱讀： selenium"
   ]
  }
 ],
 "metadata": {
  "kernelspec": {
   "display_name": "Python 3",
   "language": "python",
   "name": "python3"
  },
  "language_info": {
   "codemirror_mode": {
    "name": "ipython",
    "version": 3
   },
   "file_extension": ".py",
   "mimetype": "text/x-python",
   "name": "python",
   "nbconvert_exporter": "python",
   "pygments_lexer": "ipython3",
   "version": "3.6.5"
  }
 },
 "nbformat": 4,
 "nbformat_minor": 2
}
