{
 "cells": [
  {
   "cell_type": "markdown",
   "metadata": {},
   "source": [
    "# 這一節在講怎麼讀（寫）檔"
   ]
  },
  {
   "cell_type": "markdown",
   "metadata": {},
   "source": [
    "## 1.讀檔："
   ]
  },
  {
   "cell_type": "code",
   "execution_count": 1,
   "metadata": {},
   "outputs": [
    {
     "name": "stdout",
     "output_type": "stream",
     "text": [
      "{\\rtf1\\ansi\\ansicpg1252\\cocoartf1561\\cocoasubrtf400\n",
      "{\\fonttbl\\f0\\fswiss\\fcharset0 Helvetica;}\n",
      "{\\colortbl;\\red255\\green255\\blue255;}\n",
      "{\\*\\expandedcolortbl;;}\n",
      "\\paperw11900\\paperh16840\\margl1440\\margr1440\\vieww10800\\viewh8400\\viewkind0\n",
      "\\pard\\tx566\\tx1133\\tx1700\\tx2267\\tx2834\\tx3401\\tx3968\\tx4535\\tx5102\\tx5669\\tx6236\\tx6803\\pardirnatural\\partightenfactor0\n",
      "\n",
      "\\f0\\fs24 \\cf0 Hello World!!}\n"
     ]
    }
   ],
   "source": [
    "import os\n",
    "# 其實直接寫./CH8/hello.rtf 就好的，但是為了複習一下 join 以及 getcwd\n",
    "path = os.path.join(os.getcwd(),'CH8')\n",
    "hellofile = open(os.path.join(path,\"hello.rtf\"))\n",
    "hello_content = hellofile.read()\n",
    "print(hello_content)\n",
    "\n",
    "## 記得讀完檔之後都要close掉！！！\n",
    "hellofile.close()\n"
   ]
  },
  {
   "cell_type": "markdown",
   "metadata": {},
   "source": [
    "## 2.寫檔 -> 在open 的第二個參數放入 w或a\n",
    "* w 模式    -> 會把原來的檔案覆蓋掉\n",
    "* a 模式    -> 會接續原來的檔案寫下去"
   ]
  },
  {
   "cell_type": "code",
   "execution_count": 2,
   "metadata": {},
   "outputs": [],
   "source": [
    "baconFile = open('./CH8/bacon.txt','w')\n",
    "baconFile.write('Hello World!\\n')\n",
    "baconFile.close()"
   ]
  },
  {
   "cell_type": "code",
   "execution_count": 3,
   "metadata": {},
   "outputs": [],
   "source": [
    "baconFile = open('./CH8/bacon.txt','a')\n",
    "baconFile.write('Bacon is not a vegetable')\n",
    "baconFile.close()"
   ]
  },
  {
   "cell_type": "code",
   "execution_count": 4,
   "metadata": {},
   "outputs": [
    {
     "name": "stdout",
     "output_type": "stream",
     "text": [
      "Hello World!\n",
      "Bacon is not a vegetable\n"
     ]
    }
   ],
   "source": [
    "baconFile = open('./CH8/bacon.txt')\n",
    "bacon_content = baconFile.read()\n",
    "baconFile.close()\n",
    "print(bacon_content)"
   ]
  },
  {
   "cell_type": "code",
   "execution_count": 5,
   "metadata": {},
   "outputs": [],
   "source": [
    "baconFile2 = open('./CH8/bacon2.txt','a')\n",
    "baconFile2.write('Hello World!\\n')\n",
    "baconFile2.close()"
   ]
  },
  {
   "cell_type": "code",
   "execution_count": 6,
   "metadata": {},
   "outputs": [],
   "source": [
    "baconFile2 = open('./CH8/bacon2.txt','w')\n",
    "baconFile2.write('Bacon is not a vegetable')\n",
    "baconFile2.close()"
   ]
  },
  {
   "cell_type": "code",
   "execution_count": 7,
   "metadata": {},
   "outputs": [
    {
     "name": "stdout",
     "output_type": "stream",
     "text": [
      "Bacon is not a vegetable\n"
     ]
    }
   ],
   "source": [
    "baconFile2 = open('./CH8/bacon2.txt')\n",
    "bacon_content2 = baconFile2.read()\n",
    "baconFile2.close()\n",
    "print(bacon_content2)"
   ]
  },
  {
   "cell_type": "markdown",
   "metadata": {},
   "source": [
    "# 接下來要介紹的是 shelve 模組\n",
    "* 在MacOS之下 會自動建立一個副檔名為db的檔案\n",
    "* 可以用字典(Dictionary) 的方式來存取資料"
   ]
  },
  {
   "cell_type": "code",
   "execution_count": 8,
   "metadata": {},
   "outputs": [],
   "source": [
    "import shelve\n",
    "shelfFile = shelve.open('./CH8/mydata')\n",
    "cats = ['Zophie','Pooka','Simon']\n",
    "shelfFile['cat'] = cats\n",
    "shelfFile.close()"
   ]
  },
  {
   "cell_type": "code",
   "execution_count": 10,
   "metadata": {},
   "outputs": [
    {
     "name": "stdout",
     "output_type": "stream",
     "text": [
      "['cat']\n",
      "[['Zophie', 'Pooka', 'Simon']]\n"
     ]
    }
   ],
   "source": [
    "shelfFile = shelve.open('./CH8/mydata')\n",
    "print(list(shelfFile.keys()))\n",
    "print(list(shelfFile.values()))\n",
    "shelfFile.close()"
   ]
  },
  {
   "cell_type": "markdown",
   "metadata": {},
   "source": [
    "## 複習:第五章的 pprint 來印出整齊排版的文件"
   ]
  },
  {
   "cell_type": "code",
   "execution_count": 12,
   "metadata": {},
   "outputs": [],
   "source": [
    "import pprint\n",
    "cats = [{'name':'Zophie','desc':'chubby'},{'name':'Pooka','desc':'fluffy'}]\n",
    "pprint.pformat(cats)\n",
    "\n",
    "fileObj = open('myCats.py','w')\n",
    "fileObj.write('cats = ' + pprint.pformat(cats) +'\\n')\n",
    "fileObj.close()"
   ]
  },
  {
   "cell_type": "markdown",
   "metadata": {},
   "source": [
    "#### import 剛剛寫的檔案，就可以直接用剛剛寫好的字典 (dictionary)"
   ]
  },
  {
   "cell_type": "code",
   "execution_count": 15,
   "metadata": {},
   "outputs": [
    {
     "name": "stdout",
     "output_type": "stream",
     "text": [
      "[{'desc': 'chubby', 'name': 'Zophie'}, {'desc': 'fluffy', 'name': 'Pooka'}]\n",
      "{'desc': 'chubby', 'name': 'Zophie'}\n",
      "Zophie\n"
     ]
    }
   ],
   "source": [
    "import myCats\n",
    "print(myCats.cats)\n",
    "print(myCats.cats[0])\n",
    "print(myCats.cats[0]['name'])"
   ]
  }
 ],
 "metadata": {
  "kernelspec": {
   "display_name": "Python 3",
   "language": "python",
   "name": "python3"
  },
  "language_info": {
   "codemirror_mode": {
    "name": "ipython",
    "version": 3
   },
   "file_extension": ".py",
   "mimetype": "text/x-python",
   "name": "python",
   "nbconvert_exporter": "python",
   "pygments_lexer": "ipython3",
   "version": "3.6.5"
  }
 },
 "nbformat": 4,
 "nbformat_minor": 2
}
