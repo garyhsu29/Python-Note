{
 "cells": [
  {
   "cell_type": "markdown",
   "metadata": {},
   "source": [
    "# 這一章會學到的事 shutil 模組能做到\n",
    "* shutil.copy(source, destination) : 就是從 src 複製到 ->  dest\n",
    "* shutil.move(source, destination) : 就是從 src 搬到 ->  dest\n",
    "* 改名: move 或 copy 的時候 destionation最後面 不要填原本的檔名就好\n",
    "* 刪除檔案: os.unlink(path)/os.rmdir(path)\n"
   ]
  },
  {
   "cell_type": "code",
   "execution_count": 5,
   "metadata": {},
   "outputs": [
    {
     "name": "stdout",
     "output_type": "stream",
     "text": [
      "Folder already Exist\n"
     ]
    }
   ],
   "source": [
    "import os\n",
    "cur_path = os.getcwd()\n",
    "try:\n",
    "    os.makedirs('CH9')\n",
    "except:\n",
    "    print('Folder already Exist')"
   ]
  },
  {
   "cell_type": "markdown",
   "metadata": {},
   "source": [
    "# 從當前目錄複製檔案到CH9 資料夾之中\n",
    "* 使用move的時候要留意，如果有相同檔名的檔案會被覆蓋掉，一定要小心使用\n",
    "* 使用move時，如果 destionation 的檔名故意放別的名稱，就能達到改名的效果"
   ]
  },
  {
   "cell_type": "markdown",
   "metadata": {},
   "source": [
    "# 1.複製\n",
    "#### 手動當前目錄建立一個Test 的File，然後把它用python複製到CH9資料夾內"
   ]
  },
  {
   "cell_type": "code",
   "execution_count": 10,
   "metadata": {},
   "outputs": [
    {
     "data": {
      "text/plain": [
       "'./CH9/Test.rtf'"
      ]
     },
     "execution_count": 10,
     "metadata": {},
     "output_type": "execute_result"
    }
   ],
   "source": [
    "import shutil\n",
    "shutil.copy('Test.rtf','./CH9/Test.rtf')"
   ]
  },
  {
   "cell_type": "markdown",
   "metadata": {},
   "source": [
    "# 2.搬移 3.改名\n",
    "#### 把當前目錄下 Test2.rtf(手動建立) 搬移到 CH9資料夾內， 如果./CH9/  -> FIle name改成其他名稱 可達到改名效果"
   ]
  },
  {
   "cell_type": "code",
   "execution_count": 12,
   "metadata": {},
   "outputs": [
    {
     "data": {
      "text/plain": [
       "['myCats.py',\n",
       " 'CH9',\n",
       " 'CH8',\n",
       " '.DS_Store',\n",
       " 'CH9 檔案的組織與管理.ipynb',\n",
       " 'automate_online-materials',\n",
       " 'bulletPointAdder.py',\n",
       " '__pycache__',\n",
       " 'CH8-1 Path and Directory.ipynb',\n",
       " 'CH8-2 Read and Write.ipynb',\n",
       " 'pw.py',\n",
       " '.ipynb_checkpoints',\n",
       " 'Test.rtf']"
      ]
     },
     "execution_count": 12,
     "metadata": {},
     "output_type": "execute_result"
    }
   ],
   "source": [
    "try:\n",
    "    shutil.move('Test2.rtf','./CH9/Test2.rtf')\n",
    "except:\n",
    "    print(\"Test2.rtf not found!\")\n",
    "os.listdir()\n",
    "## Test2.rtf 就不見了"
   ]
  },
  {
   "cell_type": "markdown",
   "metadata": {},
   "source": [
    "# 永久刪除檔案以及資料夾\n",
    "* os.unlink(path): 可刪除path路徑指到的檔案\n",
    "* os.rmdir(path): 可刪除path路徑指到的資料夾，但資料夾必須是空的，不能有檔案以及子資料夾\n",
    "* shutil.rmtree(path): 可刪除path路徑指到的資料夾，以及資料夾中所有檔案以及子資料夾"
   ]
  },
  {
   "cell_type": "markdown",
   "metadata": {},
   "source": [
    "### 1.刪除 CH9 之下的test資料夾(空資料夾) os.rmdir()"
   ]
  },
  {
   "cell_type": "code",
   "execution_count": 19,
   "metadata": {},
   "outputs": [
    {
     "name": "stdout",
     "output_type": "stream",
     "text": [
      "Delete test folder complete!\n"
     ]
    }
   ],
   "source": [
    "import os \n",
    "os.rmdir(os.path.join(os.getcwd(),'test'))\n",
    "print(\"Delete test folder complete!\")"
   ]
  },
  {
   "cell_type": "markdown",
   "metadata": {},
   "source": [
    "### 2.刪除 CH9 之下的test3.rtf檔案 os.unlink()"
   ]
  },
  {
   "cell_type": "code",
   "execution_count": 22,
   "metadata": {},
   "outputs": [
    {
     "name": "stdout",
     "output_type": "stream",
     "text": [
      "Delete test3 file complete!\n"
     ]
    }
   ],
   "source": [
    "import os \n",
    "os.unlink(os.path.join(os.getcwd(),'Test3.rtf'))\n",
    "print(\"Delete test3 file complete!\")"
   ]
  },
  {
   "cell_type": "markdown",
   "metadata": {},
   "source": [
    "### 3.刪除 CH9 之下的test2資料夾(非空資料夾)"
   ]
  },
  {
   "cell_type": "markdown",
   "metadata": {},
   "source": [
    "##### 1. 用 os.rmdir() 會發現 不是空的資料夾不能刪"
   ]
  },
  {
   "cell_type": "code",
   "execution_count": 23,
   "metadata": {},
   "outputs": [
    {
     "ename": "OSError",
     "evalue": "[Errno 66] Directory not empty: '/Users/Garyhsu29/NU Homework/Automate Python/CH9/test2'",
     "output_type": "error",
     "traceback": [
      "\u001b[0;31m---------------------------------------------------------------------------\u001b[0m",
      "\u001b[0;31mOSError\u001b[0m                                   Traceback (most recent call last)",
      "\u001b[0;32m<ipython-input-23-d8485de927ef>\u001b[0m in \u001b[0;36m<module>\u001b[0;34m()\u001b[0m\n\u001b[1;32m      1\u001b[0m \u001b[0;32mimport\u001b[0m \u001b[0mos\u001b[0m\u001b[0;34m\u001b[0m\u001b[0m\n\u001b[0;32m----> 2\u001b[0;31m \u001b[0mos\u001b[0m\u001b[0;34m.\u001b[0m\u001b[0mrmdir\u001b[0m\u001b[0;34m(\u001b[0m\u001b[0mos\u001b[0m\u001b[0;34m.\u001b[0m\u001b[0mpath\u001b[0m\u001b[0;34m.\u001b[0m\u001b[0mjoin\u001b[0m\u001b[0;34m(\u001b[0m\u001b[0mos\u001b[0m\u001b[0;34m.\u001b[0m\u001b[0mgetcwd\u001b[0m\u001b[0;34m(\u001b[0m\u001b[0;34m)\u001b[0m\u001b[0;34m,\u001b[0m\u001b[0;34m'test2'\u001b[0m\u001b[0;34m)\u001b[0m\u001b[0;34m)\u001b[0m\u001b[0;34m\u001b[0m\u001b[0m\n\u001b[0m\u001b[1;32m      3\u001b[0m \u001b[0mprint\u001b[0m\u001b[0;34m(\u001b[0m\u001b[0;34m\"Delete test2 folder complete!\"\u001b[0m\u001b[0;34m)\u001b[0m\u001b[0;34m\u001b[0m\u001b[0m\n",
      "\u001b[0;31mOSError\u001b[0m: [Errno 66] Directory not empty: '/Users/Garyhsu29/NU Homework/Automate Python/CH9/test2'"
     ]
    }
   ],
   "source": [
    "import os \n",
    "os.rmdir(os.path.join(os.getcwd(),'test2'))\n",
    "print(\"Delete test2 folder complete!\")"
   ]
  },
  {
   "cell_type": "markdown",
   "metadata": {},
   "source": [
    "##### 2. 用 shutil.rmtree() 就可以順利刪除"
   ]
  },
  {
   "cell_type": "code",
   "execution_count": 24,
   "metadata": {},
   "outputs": [
    {
     "name": "stdout",
     "output_type": "stream",
     "text": [
      "Delete test2 folder complete!\n"
     ]
    }
   ],
   "source": [
    "import os,shutil\n",
    "shutil.rmtree(os.path.join(os.getcwd(),'test2'))\n",
    "print(\"Delete test2 folder complete!\")"
   ]
  },
  {
   "cell_type": "markdown",
   "metadata": {},
   "source": [
    "還可以用 for filename in  os.listdir() :\n",
    "if filename.endswith('rtf')  :\n",
    "來找到資料夾內rtf結尾的檔案\n",
    "#### 但是做這些刪除的動作都要小心無法復原 (可以先print出結果 確定沒錯再刪)"
   ]
  },
  {
   "cell_type": "markdown",
   "metadata": {},
   "source": [
    "# Shutil 再刪除檔案無法復原不太安全 -> 可以用send2trash\n",
    "### pip install send2trash"
   ]
  },
  {
   "cell_type": "code",
   "execution_count": 27,
   "metadata": {},
   "outputs": [
    {
     "name": "stdout",
     "output_type": "stream",
     "text": [
      "There is a bacon.txt in trash!!!!\n"
     ]
    }
   ],
   "source": [
    "import send2trash\n",
    "baconFile = open('bacon.txt','a')\n",
    "baconFile.write('Bacon is not a vegetable!')\n",
    "baconFile.close()\n",
    "send2trash.send2trash('bacon.txt')\n",
    "print(\"There is a bacon.txt in trash!!!!\")"
   ]
  },
  {
   "cell_type": "markdown",
   "metadata": {},
   "source": [
    "## 如果想要走訪一個目錄底下的資料夾，並列印出所有file\n",
    "* os.walk(path)"
   ]
  },
  {
   "cell_type": "code",
   "execution_count": 35,
   "metadata": {},
   "outputs": [
    {
     "name": "stdout",
     "output_type": "stream",
     "text": [
      "The current folder is :../\n",
      "Subfolder of: ../ : CH9\n",
      "Subfolder of: ../ : CH8\n",
      "Subfolder of: ../ : automate_online-materials\n",
      "Subfolder of: ../ : __pycache__\n",
      "Subfolder of: ../ : .ipynb_checkpoints\n",
      "File inside: ../: myCats.py\n",
      "File inside: ../: .DS_Store\n",
      "File inside: ../: CH9 檔案的組織與管理(shutil,zipfile).ipynb\n",
      "File inside: ../: bulletPointAdder.py\n",
      "File inside: ../: CH8-1 Path and Directory.ipynb\n",
      "File inside: ../: CH8-2 Read and Write.ipynb\n",
      "File inside: ../: pw.py\n",
      "File inside: ../: Test.rtf\n",
      "The current folder is :../CH9\n",
      "File inside: ../CH9: Test del.rtf\n",
      "File inside: ../CH9: .DS_Store\n",
      "File inside: ../CH9: Test2.rtf\n",
      "File inside: ../CH9: Test.rtf\n",
      "The current folder is :../CH8\n",
      "File inside: ../CH8: .DS_Store\n",
      "File inside: ../CH8: Test2.rtf\n",
      "File inside: ../CH8: Test3.rtf\n",
      "File inside: ../CH8: bacon.txt\n",
      "File inside: ../CH8: mydata.db\n",
      "File inside: ../CH8: Test.rtf\n",
      "File inside: ../CH8: bacon2.txt\n",
      "File inside: ../CH8: hello.rtf\n",
      "The current folder is :../__pycache__\n",
      "File inside: ../__pycache__: myCats.cpython-36.pyc\n",
      "The current folder is :../.ipynb_checkpoints\n",
      "File inside: ../.ipynb_checkpoints: CH8-2 Read and Write-checkpoint.ipynb\n",
      "File inside: ../.ipynb_checkpoints: CH9 檔案的組織與管理(shutil,zipfile)-checkpoint.ipynb\n",
      "File inside: ../.ipynb_checkpoints: CH8-1 Path and Directory-checkpoint.ipynb\n"
     ]
    }
   ],
   "source": [
    "import os\n",
    "for folderName,subfolders,filenames in os.walk('../'):\n",
    "    # 這個file 裡面太多雜物\n",
    "    if folderName != '../automate_online-materials':\n",
    "        print('The current folder is :' + folderName)\n",
    "        for subfolder in subfolders:\n",
    "            print('Subfolder of: ' + folderName + ' : ' + subfolder)\n",
    "        for filename in filenames:\n",
    "            print('File inside: '+ folderName + ': '+ filename)\n"
   ]
  }
 ],
 "metadata": {
  "kernelspec": {
   "display_name": "Python 3",
   "language": "python",
   "name": "python3"
  },
  "language_info": {
   "codemirror_mode": {
    "name": "ipython",
    "version": 3
   },
   "file_extension": ".py",
   "mimetype": "text/x-python",
   "name": "python",
   "nbconvert_exporter": "python",
   "pygments_lexer": "ipython3",
   "version": "3.6.5"
  }
 },
 "nbformat": 4,
 "nbformat_minor": 2
}
