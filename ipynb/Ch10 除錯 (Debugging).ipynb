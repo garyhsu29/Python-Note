{
 "cells": [
  {
   "cell_type": "markdown",
   "metadata": {},
   "source": [
    "# 除錯(Debugging)"
   ]
  },
  {
   "cell_type": "markdown",
   "metadata": {},
   "source": [
    "## 運用兩個技巧可以及早發現bug\n",
    "*  logging\n",
    "*  assertion"
   ]
  },
  {
   "cell_type": "markdown",
   "metadata": {},
   "source": [
    "## 1. try: exception: 也是很常用的debug工具\n",
    "* try 某件事情\n",
    "* 如果發生錯誤，就執行except內的事情"
   ]
  },
  {
   "cell_type": "code",
   "execution_count": 2,
   "metadata": {},
   "outputs": [],
   "source": [
    "def devider(num1,num2):\n",
    "    try:\n",
    "        print(num1/num2)\n",
    "    except:\n",
    "        print('Num can\\'t divide by 0')"
   ]
  },
  {
   "cell_type": "code",
   "execution_count": 3,
   "metadata": {},
   "outputs": [
    {
     "name": "stdout",
     "output_type": "stream",
     "text": [
      "3.0\n",
      "-4.0\n",
      "0.0\n",
      "Num can't divide by 0\n"
     ]
    }
   ],
   "source": [
    "devider(3,1)\n",
    "devider(4,-1)\n",
    "devider(0,1)\n",
    "devider(5,0)"
   ]
  },
  {
   "cell_type": "markdown",
   "metadata": {},
   "source": [
    "## 2. 利用 traceback的字串 來判斷錯在哪一行\n",
    "在下面的程式我們可以看出\n",
    "* spam call bacon\n",
    "* bacon 裡面有一個 raise Exception -> 找到錯誤\n",
    "* 利用錯誤訊息來debug"
   ]
  },
  {
   "cell_type": "code",
   "execution_count": 4,
   "metadata": {},
   "outputs": [
    {
     "ename": "Exception",
     "evalue": "This is the error message",
     "output_type": "error",
     "traceback": [
      "\u001b[0;31m---------------------------------------------------------------------------\u001b[0m",
      "\u001b[0;31mException\u001b[0m                                 Traceback (most recent call last)",
      "\u001b[0;32m<ipython-input-4-7e038c64fabf>\u001b[0m in \u001b[0;36m<module>\u001b[0;34m()\u001b[0m\n\u001b[1;32m      5\u001b[0m     \u001b[0;32mraise\u001b[0m \u001b[0mException\u001b[0m \u001b[0;34m(\u001b[0m\u001b[0;34m'This is the error message'\u001b[0m\u001b[0;34m)\u001b[0m\u001b[0;34m\u001b[0m\u001b[0m\n\u001b[1;32m      6\u001b[0m \u001b[0;34m\u001b[0m\u001b[0m\n\u001b[0;32m----> 7\u001b[0;31m \u001b[0mspam\u001b[0m\u001b[0;34m(\u001b[0m\u001b[0;34m)\u001b[0m\u001b[0;34m\u001b[0m\u001b[0m\n\u001b[0m",
      "\u001b[0;32m<ipython-input-4-7e038c64fabf>\u001b[0m in \u001b[0;36mspam\u001b[0;34m()\u001b[0m\n\u001b[1;32m      1\u001b[0m \u001b[0;32mdef\u001b[0m \u001b[0mspam\u001b[0m\u001b[0;34m(\u001b[0m\u001b[0;34m)\u001b[0m\u001b[0;34m:\u001b[0m\u001b[0;34m\u001b[0m\u001b[0m\n\u001b[0;32m----> 2\u001b[0;31m     \u001b[0mbacon\u001b[0m\u001b[0;34m(\u001b[0m\u001b[0;34m)\u001b[0m\u001b[0;34m\u001b[0m\u001b[0m\n\u001b[0m\u001b[1;32m      3\u001b[0m \u001b[0;34m\u001b[0m\u001b[0m\n\u001b[1;32m      4\u001b[0m \u001b[0;32mdef\u001b[0m \u001b[0mbacon\u001b[0m\u001b[0;34m(\u001b[0m\u001b[0;34m)\u001b[0m\u001b[0;34m:\u001b[0m\u001b[0;34m\u001b[0m\u001b[0m\n\u001b[1;32m      5\u001b[0m     \u001b[0;32mraise\u001b[0m \u001b[0mException\u001b[0m \u001b[0;34m(\u001b[0m\u001b[0;34m'This is the error message'\u001b[0m\u001b[0;34m)\u001b[0m\u001b[0;34m\u001b[0m\u001b[0m\n",
      "\u001b[0;32m<ipython-input-4-7e038c64fabf>\u001b[0m in \u001b[0;36mbacon\u001b[0;34m()\u001b[0m\n\u001b[1;32m      3\u001b[0m \u001b[0;34m\u001b[0m\u001b[0m\n\u001b[1;32m      4\u001b[0m \u001b[0;32mdef\u001b[0m \u001b[0mbacon\u001b[0m\u001b[0;34m(\u001b[0m\u001b[0;34m)\u001b[0m\u001b[0;34m:\u001b[0m\u001b[0;34m\u001b[0m\u001b[0m\n\u001b[0;32m----> 5\u001b[0;31m     \u001b[0;32mraise\u001b[0m \u001b[0mException\u001b[0m \u001b[0;34m(\u001b[0m\u001b[0;34m'This is the error message'\u001b[0m\u001b[0;34m)\u001b[0m\u001b[0;34m\u001b[0m\u001b[0m\n\u001b[0m\u001b[1;32m      6\u001b[0m \u001b[0;34m\u001b[0m\u001b[0m\n\u001b[1;32m      7\u001b[0m \u001b[0mspam\u001b[0m\u001b[0;34m(\u001b[0m\u001b[0;34m)\u001b[0m\u001b[0;34m\u001b[0m\u001b[0m\n",
      "\u001b[0;31mException\u001b[0m: This is the error message"
     ]
    }
   ],
   "source": [
    "def spam():\n",
    "    bacon()\n",
    "    \n",
    "def bacon():\n",
    "    raise Exception ('This is the error message')\n",
    "\n",
    "spam()"
   ]
  },
  {
   "cell_type": "code",
   "execution_count": 5,
   "metadata": {},
   "outputs": [
    {
     "name": "stdout",
     "output_type": "stream",
     "text": [
      "The trace info was written to errorInfo.txt\n"
     ]
    }
   ],
   "source": [
    "import traceback\n",
    "\n",
    "try:\n",
    "    raise Exception ('This is the error message')\n",
    "except:\n",
    "    errorFile = open('errorInfo.txt','w')\n",
    "    errorFile.write(traceback.format_exc())\n",
    "    errorFile.close()\n",
    "    print('The trace info was written to errorInfo.txt')"
   ]
  },
  {
   "cell_type": "markdown",
   "metadata": {},
   "source": [
    "## 3. 斷言(assertion)\n",
    "* 可以用來確保某個變數的值/狀態"
   ]
  },
  {
   "cell_type": "markdown",
   "metadata": {},
   "source": [
    "假設今天程式內的door status 必須確保是open  \n",
    "程式碼如下："
   ]
  },
  {
   "cell_type": "code",
   "execution_count": 6,
   "metadata": {},
   "outputs": [
    {
     "ename": "AssertionError",
     "evalue": "The door need to be \"open\".",
     "output_type": "error",
     "traceback": [
      "\u001b[0;31m---------------------------------------------------------------------------\u001b[0m",
      "\u001b[0;31mAssertionError\u001b[0m                            Traceback (most recent call last)",
      "\u001b[0;32m<ipython-input-6-842950271f32>\u001b[0m in \u001b[0;36m<module>\u001b[0;34m()\u001b[0m\n\u001b[1;32m      2\u001b[0m \u001b[0;32massert\u001b[0m \u001b[0mdoor_status\u001b[0m \u001b[0;34m==\u001b[0m \u001b[0;34m'open'\u001b[0m\u001b[0;34m,\u001b[0m\u001b[0;34m'The door need to be \"open\".'\u001b[0m\u001b[0;34m\u001b[0m\u001b[0m\n\u001b[1;32m      3\u001b[0m \u001b[0mdoor_status\u001b[0m \u001b[0;34m=\u001b[0m \u001b[0;34m'close'\u001b[0m\u001b[0;34m\u001b[0m\u001b[0m\n\u001b[0;32m----> 4\u001b[0;31m \u001b[0;32massert\u001b[0m \u001b[0mdoor_status\u001b[0m \u001b[0;34m==\u001b[0m \u001b[0;34m'open'\u001b[0m\u001b[0;34m,\u001b[0m\u001b[0;34m'The door need to be \"open\".'\u001b[0m\u001b[0;34m\u001b[0m\u001b[0m\n\u001b[0m",
      "\u001b[0;31mAssertionError\u001b[0m: The door need to be \"open\"."
     ]
    }
   ],
   "source": [
    "door_status = 'open'\n",
    "assert door_status == 'open','The door need to be \"open\".'\n",
    "door_status = 'close'\n",
    "assert door_status == 'open','The door need to be \"open\".'"
   ]
  },
  {
   "cell_type": "markdown",
   "metadata": {},
   "source": [
    "### 現在要設計一個紅綠燈程式，  要確保南北向(ns)、東西向(ew)不能都不為紅燈："
   ]
  },
  {
   "cell_type": "code",
   "execution_count": 7,
   "metadata": {},
   "outputs": [
    {
     "ename": "AssertionError",
     "evalue": "Neighter the stop light is red{'ns': 'green', 'ew': 'yellow'}",
     "output_type": "error",
     "traceback": [
      "\u001b[0;31m---------------------------------------------------------------------------\u001b[0m",
      "\u001b[0;31mAssertionError\u001b[0m                            Traceback (most recent call last)",
      "\u001b[0;32m<ipython-input-7-d74d952f4db3>\u001b[0m in \u001b[0;36m<module>\u001b[0;34m()\u001b[0m\n\u001b[1;32m     13\u001b[0m     \u001b[0;32massert\u001b[0m \u001b[0;34m'red'\u001b[0m \u001b[0;32min\u001b[0m \u001b[0mstop_light\u001b[0m\u001b[0;34m.\u001b[0m\u001b[0mvalues\u001b[0m\u001b[0;34m(\u001b[0m\u001b[0;34m)\u001b[0m \u001b[0;34m,\u001b[0m \u001b[0;34m'Neighter the stop light is red'\u001b[0m \u001b[0;34m+\u001b[0m \u001b[0mstr\u001b[0m\u001b[0;34m(\u001b[0m\u001b[0mstop_light\u001b[0m\u001b[0;34m)\u001b[0m\u001b[0;34m\u001b[0m\u001b[0m\n\u001b[1;32m     14\u001b[0m \u001b[0;34m\u001b[0m\u001b[0m\n\u001b[0;32m---> 15\u001b[0;31m \u001b[0mchange_light\u001b[0m\u001b[0;34m(\u001b[0m\u001b[0mridge_ave\u001b[0m\u001b[0;34m)\u001b[0m\u001b[0;34m\u001b[0m\u001b[0m\n\u001b[0m\u001b[1;32m     16\u001b[0m \u001b[0mchange_light\u001b[0m\u001b[0;34m(\u001b[0m\u001b[0mchicago_ave\u001b[0m\u001b[0;34m)\u001b[0m\u001b[0;34m\u001b[0m\u001b[0m\n",
      "\u001b[0;32m<ipython-input-7-d74d952f4db3>\u001b[0m in \u001b[0;36mchange_light\u001b[0;34m(stop_light)\u001b[0m\n\u001b[1;32m     11\u001b[0m             \u001b[0mstop_light\u001b[0m\u001b[0;34m[\u001b[0m\u001b[0mkey\u001b[0m\u001b[0;34m]\u001b[0m \u001b[0;34m=\u001b[0m \u001b[0;34m'green'\u001b[0m\u001b[0;34m\u001b[0m\u001b[0m\n\u001b[1;32m     12\u001b[0m \u001b[0;34m\u001b[0m\u001b[0m\n\u001b[0;32m---> 13\u001b[0;31m     \u001b[0;32massert\u001b[0m \u001b[0;34m'red'\u001b[0m \u001b[0;32min\u001b[0m \u001b[0mstop_light\u001b[0m\u001b[0;34m.\u001b[0m\u001b[0mvalues\u001b[0m\u001b[0;34m(\u001b[0m\u001b[0;34m)\u001b[0m \u001b[0;34m,\u001b[0m \u001b[0;34m'Neighter the stop light is red'\u001b[0m \u001b[0;34m+\u001b[0m \u001b[0mstr\u001b[0m\u001b[0;34m(\u001b[0m\u001b[0mstop_light\u001b[0m\u001b[0;34m)\u001b[0m\u001b[0;34m\u001b[0m\u001b[0m\n\u001b[0m\u001b[1;32m     14\u001b[0m \u001b[0;34m\u001b[0m\u001b[0m\n\u001b[1;32m     15\u001b[0m \u001b[0mchange_light\u001b[0m\u001b[0;34m(\u001b[0m\u001b[0mridge_ave\u001b[0m\u001b[0;34m)\u001b[0m\u001b[0;34m\u001b[0m\u001b[0m\n",
      "\u001b[0;31mAssertionError\u001b[0m: Neighter the stop light is red{'ns': 'green', 'ew': 'yellow'}"
     ]
    }
   ],
   "source": [
    "ridge_ave = {'ns':'red','ew':'green'}\n",
    "chicago_ave = {'ns':'yellow','ew':'red'}\n",
    "\n",
    "def change_light(stop_light):\n",
    "    for key in stop_light.keys():\n",
    "        if stop_light[key] == 'green':\n",
    "            stop_light[key] = 'yellow'\n",
    "        elif stop_light[key] == 'yellow':\n",
    "            stop_light[key] = 'red'\n",
    "        else:\n",
    "            stop_light[key] = 'green'\n",
    "    \n",
    "    assert 'red' in stop_light.values() , 'Neighter the stop light is red' + str(stop_light)\n",
    "\n",
    "change_light(ridge_ave)\n",
    "change_light(chicago_ave)"
   ]
  },
  {
   "cell_type": "markdown",
   "metadata": {},
   "source": [
    "### 用 assert語句可以及早發現程式設計上的錯誤，減少發行之後的bug\n",
    "#### 當bug都被檢查完以後，可以在執行python 的時候傳入 -O選項參數，關掉assertion"
   ]
  },
  {
   "cell_type": "markdown",
   "metadata": {},
   "source": [
    "## 4. 日誌(logging)\n",
    "* logging 的功能和 print很類似\n",
    "* logging的好處: 想要刪除的時候只要輸入 logging.disable(logging.CRITICAL)-> 就可以停用成功\n"
   ]
  },
  {
   "cell_type": "code",
   "execution_count": 8,
   "metadata": {},
   "outputs": [
    {
     "name": "stderr",
     "output_type": "stream",
     "text": [
      "2018-07-13 15:44:43,182 - DEBUG - Start of program\n",
      "2018-07-13 15:44:43,185 - DEBUG - Start of factorial (5)\n",
      "2018-07-13 15:44:43,186 - DEBUG - i is 0, total is 0\n",
      "2018-07-13 15:44:43,187 - DEBUG - i is 1, total is 0\n",
      "2018-07-13 15:44:43,188 - DEBUG - i is 2, total is 0\n",
      "2018-07-13 15:44:43,189 - DEBUG - i is 3, total is 0\n",
      "2018-07-13 15:44:43,190 - DEBUG - i is 4, total is 0\n",
      "2018-07-13 15:44:43,191 - DEBUG - i is 5, total is 0\n",
      "2018-07-13 15:44:43,192 - DEBUG - End of factorial (5)\n",
      "2018-07-13 15:44:43,193 - DEBUG - End of program\n"
     ]
    },
    {
     "name": "stdout",
     "output_type": "stream",
     "text": [
      "0\n"
     ]
    }
   ],
   "source": [
    "import logging\n",
    "logging.basicConfig(level=logging.DEBUG,format='%(asctime)s - %(levelname)s - %(message)s')\n",
    "logging.debug('Start of program')\n",
    "\n",
    "def factorial(n):\n",
    "    #logging 1 \n",
    "    logging.debug('Start of factorial (% s)' %n)\n",
    "    total = 1\n",
    "    for i in range(n+1):\n",
    "        total *= i\n",
    "        logging.debug('i is ' + str(i) + ', total is '+ str(total))\n",
    "    #logging 2\n",
    "    logging.debug('End of factorial (%s)'%n)\n",
    "    return total\n",
    "\n",
    "print(factorial(5))\n",
    "logging.debug('End of program')"
   ]
  },
  {
   "cell_type": "markdown",
   "metadata": {},
   "source": [
    "| 層級      |    日誌函式 | 描述  |\n",
    "| :-------- | --------:| :--: |\n",
    "| DEBUG  | logging.debug() |  最低最不重要層級。用在小的細節。通只在診斷有問題時才會查閱這層資料。   |\n",
    "| INFO     |   logging.info() |  用來記錄程式的一般事件或用來確認程式如想要的方式運作。  |\n",
    "| WARNING      |    logging.warning() | 用來指出潛在的問題，目前雖不妨礙程式執行，但將來可能會讓程式無法運作  |\n",
    "| ERROR | logging.error() | 用來記錄錯誤，此錯誤為引發程式在某事件時會失誤的原因|\n",
    "| CRITICAL | logging.critical() | 最高最重要的層級，用來表示致命性的錯誤，此錯誤會引發程式整個當掉即停止|"
   ]
  },
  {
   "cell_type": "code",
   "execution_count": 9,
   "metadata": {},
   "outputs": [
    {
     "name": "stderr",
     "output_type": "stream",
     "text": [
      "2018-07-13 15:44:45,256 - DEBUG - Some debugging details.\n",
      "2018-07-13 15:44:45,258 - INFO - The logging module is working.\n",
      "2018-07-13 15:44:45,259 - WARNING - An error message is about to be logged.\n",
      "2018-07-13 15:44:45,260 - ERROR - An error has occurred.\n",
      "2018-07-13 15:44:45,261 - CRITICAL - The program is unable to recover.\n"
     ]
    }
   ],
   "source": [
    "import logging\n",
    "logging.basicConfig(level=logging.ERROR)\n",
    "logging.debug('Some debugging details.')\n",
    "logging.info('The logging module is working.')\n",
    "logging.warning('An error message is about to be logged.')\n",
    "logging.error('An error has occurred.')\n",
    "logging.critical('The program is unable to recover.')\n",
    "logging.disable(logging.INFO)"
   ]
  },
  {
   "cell_type": "markdown",
   "metadata": {},
   "source": [
    "### logging.disable是關掉全部層級以下的logging"
   ]
  },
  {
   "cell_type": "code",
   "execution_count": 10,
   "metadata": {},
   "outputs": [
    {
     "name": "stderr",
     "output_type": "stream",
     "text": [
      "2018-07-13 15:44:46,730 - WARNING - An error message is about to be logged1\n",
      "2018-07-13 15:44:46,732 - ERROR - An error has occurred1\n",
      "2018-07-13 15:44:46,733 - CRITICAL - The program is unable to recover1\n"
     ]
    }
   ],
   "source": [
    "import logging\n",
    "logging.basicConfig(level=logging.DEBUG)\n",
    "logging.debug('Some debugging details1.')\n",
    "logging.info('The logging module is working1')\n",
    "logging.warning('An error message is about to be logged1')\n",
    "logging.error('An error has occurred1')\n",
    "logging.critical('The program is unable to recover1')"
   ]
  },
  {
   "cell_type": "markdown",
   "metadata": {},
   "source": [
    "### logging.basic.Config 還可指定檔名，把logging 寫到檔案裡面保存"
   ]
  },
  {
   "cell_type": "code",
   "execution_count": 19,
   "metadata": {},
   "outputs": [
    {
     "name": "stderr",
     "output_type": "stream",
     "text": [
      "2018-07-13 15:51:59,711 - CRITICAL - Some debugging details1.\n"
     ]
    },
    {
     "name": "stdout",
     "output_type": "stream",
     "text": [
      "/Users/Garyhsu29/NU Homework/Automate Python\n"
     ]
    }
   ],
   "source": [
    "import logging,os\n",
    "logging.basicConfig(filename = 'Myprogram.txt',level=logging.ERROR,format = '%(asctime)s - %(levelname)s - %(message)s')\n",
    "print(os.getcwd())\n",
    "logging.critical('Some debugging details1.')"
   ]
  }
 ],
 "metadata": {
  "kernelspec": {
   "display_name": "Python 3",
   "language": "python",
   "name": "python3"
  },
  "language_info": {
   "codemirror_mode": {
    "name": "ipython",
    "version": 3
   },
   "file_extension": ".py",
   "mimetype": "text/x-python",
   "name": "python",
   "nbconvert_exporter": "python",
   "pygments_lexer": "ipython3",
   "version": "3.6.5"
  }
 },
 "nbformat": 4,
 "nbformat_minor": 2
}
